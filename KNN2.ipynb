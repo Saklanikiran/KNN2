{
 "cells": [
  {
   "cell_type": "markdown",
   "id": "74aa34bd-0d72-4feb-a42e-0dd546f08d5c",
   "metadata": {},
   "source": [
    "# Ans : 1"
   ]
  },
  {
   "cell_type": "code",
   "execution_count": null,
   "id": "945f1614-c3e8-4601-a9cb-a1aef0090c52",
   "metadata": {},
   "outputs": [],
   "source": [
    "'''\n",
    "Euclidean Distance: It calculates the straight-line distance between two points in Euclidean space. It's sensitive to the scale of the data and can be influenced by outliers.\n",
    "\n",
    "Manhattan Distance: It calculates the sum of the absolute differences between the coordinates of the points. It's less sensitive to outliers and scale variations.\n",
    "\n",
    "The choice between these metrics can affect the performance based on the data distribution. Euclidean distance works well when the data is\n",
    "normally distributed, while Manhattan distance is preferable when dealing with high-dimensional data or when features have different scales.\n",
    "\n",
    "'''"
   ]
  },
  {
   "cell_type": "markdown",
   "id": "5169ca51-a1b8-4077-ac4b-f4b4881613c6",
   "metadata": {},
   "source": [
    "# Ans : 2"
   ]
  },
  {
   "cell_type": "code",
   "execution_count": null,
   "id": "2afd40cb-50b5-4cdc-b860-4d4b5e8f9a59",
   "metadata": {},
   "outputs": [],
   "source": [
    "'''\n",
    "Cross-Validation: Use techniques like k-fold cross-validation to evaluate the performance of the model for different k values.\n",
    "\n",
    "Grid Search: Perform a grid search over a range of k values to identify the one that provides the best performance based on a chosen metric (e.g., accuracy, RMSE).\n",
    "\n",
    "Elbow Method: Plot the error rate for different k values and choose the value at the \"elbow point\" where the error starts to flatten.\n",
    "\n",
    "'''"
   ]
  },
  {
   "cell_type": "markdown",
   "id": "e3132585-9b52-4fac-a44c-664d7bcf59d5",
   "metadata": {},
   "source": [
    "# Ans : 3"
   ]
  },
  {
   "cell_type": "code",
   "execution_count": null,
   "id": "6e7ce9c9-9e1c-4736-b2fb-43471b70a15d",
   "metadata": {},
   "outputs": [],
   "source": [
    "'''\n",
    "The choice of distance metric affects how neighbors are weighted and, consequently, the predictions made by the model.\n",
    "\n",
    "Euclidean Distance: Use when data is continuous and normally distributed.\n",
    "\n",
    "Manhattan Distance: Use for high-dimensional data or when features are on different scales.\n",
    "\n",
    "Minkowski Distance: Generalization that allows tuning between Euclidean (p=2) and Manhattan (p=1) by varying the parameter p.\n",
    "\n",
    "'''"
   ]
  },
  {
   "cell_type": "markdown",
   "id": "d8c67bdf-4996-477b-adf9-46d5d860f938",
   "metadata": {},
   "source": [
    "# Ans : 4"
   ]
  },
  {
   "cell_type": "code",
   "execution_count": null,
   "id": "40d5ddab-a713-4d75-b046-5825adbe449f",
   "metadata": {},
   "outputs": [],
   "source": [
    "'''\n",
    "k (number of neighbors): Affects the bias-variance trade-off. A small k leads to low bias but high variance, while a large k leads to high bias but low variance.\n",
    "\n",
    "Distance Metric: Affects the calculation of neighbors. Choosing the appropriate metric can improve performance.\n",
    "\n",
    "Weight Function: Determines how the distance of neighbors influences their contribution (e.g., uniform, distance-based weights).\n",
    "\n",
    "Tune these hyperparameters using techniques like cross-validation, grid search, or randomized search.\n",
    "\n",
    "'''"
   ]
  },
  {
   "cell_type": "markdown",
   "id": "2dc1c97b-cd02-4651-ae8f-904982b502b0",
   "metadata": {},
   "source": [
    "# Ans : 5"
   ]
  },
  {
   "cell_type": "code",
   "execution_count": null,
   "id": "325270a2-e60f-47f6-a6d6-a80890d532b1",
   "metadata": {},
   "outputs": [],
   "source": []
  },
  {
   "cell_type": "markdown",
   "id": "78b82124-f9dc-4da7-ba56-e7a57d09b079",
   "metadata": {},
   "source": [
    "# Ans : 6"
   ]
  },
  {
   "cell_type": "code",
   "execution_count": null,
   "id": "15eebdb0-59ad-4786-8528-b1fb2d636f2c",
   "metadata": {},
   "outputs": [],
   "source": []
  }
 ],
 "metadata": {
  "kernelspec": {
   "display_name": "Python 3 (ipykernel)",
   "language": "python",
   "name": "python3"
  },
  "language_info": {
   "codemirror_mode": {
    "name": "ipython",
    "version": 3
   },
   "file_extension": ".py",
   "mimetype": "text/x-python",
   "name": "python",
   "nbconvert_exporter": "python",
   "pygments_lexer": "ipython3",
   "version": "3.10.8"
  }
 },
 "nbformat": 4,
 "nbformat_minor": 5
}
